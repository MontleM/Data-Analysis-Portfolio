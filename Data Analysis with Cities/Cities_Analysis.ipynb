{
 "cells": [
  {
   "cell_type": "markdown",
   "metadata": {},
   "source": [
    "### Question"
   ]
  },
  {
   "cell_type": "markdown",
   "metadata": {},
   "source": [
    "Imagine you are already working as a Data Analyst intern and you have been asked to\n",
    "perform some data analysis on 3 cities; Riyadh, Munich and Panama City. The goal is to help\n",
    "your team to better understand the current situation in each city so that we can better plan and\n",
    "execute strategies that will yield better results."
   ]
  },
  {
   "cell_type": "markdown",
   "metadata": {},
   "source": [
    "### Import Libraries"
   ]
  },
  {
   "cell_type": "code",
   "execution_count": 1,
   "metadata": {},
   "outputs": [],
   "source": [
    "import numpy as np\n",
    "import pandas as pd\n",
    "import datetime\n",
    "\n",
    "#Plotting\n",
    "import matplotlib.pyplot as plt\n",
    "import seaborn as sns\n",
    "%matplotlib inline"
   ]
  },
  {
   "cell_type": "markdown",
   "metadata": {},
   "source": [
    "### Data Importation"
   ]
  },
  {
   "cell_type": "code",
   "execution_count": 2,
   "metadata": {},
   "outputs": [],
   "source": [
    "df = pd.read_excel('Downloads/DiDi.xlsx', sheet_name='rawdata')"
   ]
  },
  {
   "cell_type": "code",
   "execution_count": 3,
   "metadata": {},
   "outputs": [
    {
     "data": {
      "text/html": [
       "<div>\n",
       "<style scoped>\n",
       "    .dataframe tbody tr th:only-of-type {\n",
       "        vertical-align: middle;\n",
       "    }\n",
       "\n",
       "    .dataframe tbody tr th {\n",
       "        vertical-align: top;\n",
       "    }\n",
       "\n",
       "    .dataframe thead th {\n",
       "        text-align: right;\n",
       "    }\n",
       "</style>\n",
       "<table border=\"1\" class=\"dataframe\">\n",
       "  <thead>\n",
       "    <tr style=\"text-align: right;\">\n",
       "      <th></th>\n",
       "      <th>driver id</th>\n",
       "      <th>driver_role</th>\n",
       "      <th>driver_city_name</th>\n",
       "      <th>sign_up</th>\n",
       "      <th>sign_up_date</th>\n",
       "      <th>regular</th>\n",
       "      <th>regular_date</th>\n",
       "      <th>bind_car</th>\n",
       "      <th>bind_car_date</th>\n",
       "      <th>available</th>\n",
       "      <th>...</th>\n",
       "      <th>main_channel</th>\n",
       "      <th>car_factory_year</th>\n",
       "      <th>brand_id</th>\n",
       "      <th>inn_id</th>\n",
       "      <th>first_download_time</th>\n",
       "      <th>driver_first_trip_date</th>\n",
       "      <th>driver_last_trip_date</th>\n",
       "      <th>car_first_trip_date</th>\n",
       "      <th>acceptance</th>\n",
       "      <th>trips</th>\n",
       "    </tr>\n",
       "  </thead>\n",
       "  <tbody>\n",
       "    <tr>\n",
       "      <th>0</th>\n",
       "      <td>8470311823362</td>\n",
       "      <td>Driver from fleet</td>\n",
       "      <td>Riyadh</td>\n",
       "      <td>Sign up</td>\n",
       "      <td>2020-12-16</td>\n",
       "      <td>Regular</td>\n",
       "      <td>2020-12-18</td>\n",
       "      <td>Bind car</td>\n",
       "      <td>2020-12-18</td>\n",
       "      <td>Available</td>\n",
       "      <td>...</td>\n",
       "      <td>Organic</td>\n",
       "      <td>2018.0</td>\n",
       "      <td>1014091.0</td>\n",
       "      <td>NaN</td>\n",
       "      <td>2020-12-16</td>\n",
       "      <td>2021-01-20</td>\n",
       "      <td>2021-01-22</td>\n",
       "      <td>2021-01-20</td>\n",
       "      <td>32.0</td>\n",
       "      <td>27.0</td>\n",
       "    </tr>\n",
       "    <tr>\n",
       "      <th>1</th>\n",
       "      <td>8470311842205</td>\n",
       "      <td>Driver from fleet</td>\n",
       "      <td>Panama City</td>\n",
       "      <td>Sign up</td>\n",
       "      <td>2020-12-09</td>\n",
       "      <td>Regular</td>\n",
       "      <td>2021-01-04</td>\n",
       "      <td>Bind car</td>\n",
       "      <td>2021-03-12</td>\n",
       "      <td>Available</td>\n",
       "      <td>...</td>\n",
       "      <td>Organic</td>\n",
       "      <td>2015.0</td>\n",
       "      <td>1014167.0</td>\n",
       "      <td>NaN</td>\n",
       "      <td>2020-09-03</td>\n",
       "      <td>2021-01-12</td>\n",
       "      <td>2021-04-08</td>\n",
       "      <td>2021-03-12</td>\n",
       "      <td>897.0</td>\n",
       "      <td>467.0</td>\n",
       "    </tr>\n",
       "    <tr>\n",
       "      <th>2</th>\n",
       "      <td>8470311842215</td>\n",
       "      <td>Driver from fleet</td>\n",
       "      <td>Munich</td>\n",
       "      <td>Sign up</td>\n",
       "      <td>2020-12-31</td>\n",
       "      <td>Not regular</td>\n",
       "      <td>NaT</td>\n",
       "      <td>Bind car</td>\n",
       "      <td>2020-12-31</td>\n",
       "      <td>Not available</td>\n",
       "      <td>...</td>\n",
       "      <td>Organic</td>\n",
       "      <td>NaN</td>\n",
       "      <td>NaN</td>\n",
       "      <td>NaN</td>\n",
       "      <td>NaT</td>\n",
       "      <td>NaT</td>\n",
       "      <td>NaT</td>\n",
       "      <td>NaT</td>\n",
       "      <td>NaN</td>\n",
       "      <td>NaN</td>\n",
       "    </tr>\n",
       "    <tr>\n",
       "      <th>3</th>\n",
       "      <td>8470311842386</td>\n",
       "      <td>Driver from fleet</td>\n",
       "      <td>Panama City</td>\n",
       "      <td>Sign up</td>\n",
       "      <td>2020-09-09</td>\n",
       "      <td>Regular</td>\n",
       "      <td>2020-09-15</td>\n",
       "      <td>Bind car</td>\n",
       "      <td>2021-01-21</td>\n",
       "      <td>Available</td>\n",
       "      <td>...</td>\n",
       "      <td>Organic</td>\n",
       "      <td>2014.0</td>\n",
       "      <td>1014493.0</td>\n",
       "      <td>NaN</td>\n",
       "      <td>2020-09-05</td>\n",
       "      <td>2021-01-23</td>\n",
       "      <td>2021-04-08</td>\n",
       "      <td>2021-01-23</td>\n",
       "      <td>1399.0</td>\n",
       "      <td>948.0</td>\n",
       "    </tr>\n",
       "    <tr>\n",
       "      <th>4</th>\n",
       "      <td>8470311842388</td>\n",
       "      <td>Driver from fleet</td>\n",
       "      <td>Panama City</td>\n",
       "      <td>Sign up</td>\n",
       "      <td>2021-01-18</td>\n",
       "      <td>Not regular</td>\n",
       "      <td>NaT</td>\n",
       "      <td>Not bind car</td>\n",
       "      <td>NaT</td>\n",
       "      <td>Not available</td>\n",
       "      <td>...</td>\n",
       "      <td>Organic</td>\n",
       "      <td>NaN</td>\n",
       "      <td>NaN</td>\n",
       "      <td>NaN</td>\n",
       "      <td>NaT</td>\n",
       "      <td>NaT</td>\n",
       "      <td>NaT</td>\n",
       "      <td>NaT</td>\n",
       "      <td>NaN</td>\n",
       "      <td>NaN</td>\n",
       "    </tr>\n",
       "  </tbody>\n",
       "</table>\n",
       "<p>5 rows × 21 columns</p>\n",
       "</div>"
      ],
      "text/plain": [
       "       driver id        driver_role driver_city_name  sign_up sign_up_date  \\\n",
       "0  8470311823362  Driver from fleet           Riyadh  Sign up   2020-12-16   \n",
       "1  8470311842205  Driver from fleet      Panama City  Sign up   2020-12-09   \n",
       "2  8470311842215  Driver from fleet           Munich  Sign up   2020-12-31   \n",
       "3  8470311842386  Driver from fleet      Panama City  Sign up   2020-09-09   \n",
       "4  8470311842388  Driver from fleet      Panama City  Sign up   2021-01-18   \n",
       "\n",
       "       regular regular_date      bind_car bind_car_date      available  ...  \\\n",
       "0      Regular   2020-12-18      Bind car    2020-12-18      Available  ...   \n",
       "1      Regular   2021-01-04      Bind car    2021-03-12      Available  ...   \n",
       "2  Not regular          NaT      Bind car    2020-12-31  Not available  ...   \n",
       "3      Regular   2020-09-15      Bind car    2021-01-21      Available  ...   \n",
       "4  Not regular          NaT  Not bind car           NaT  Not available  ...   \n",
       "\n",
       "  main_channel car_factory_year   brand_id  inn_id first_download_time  \\\n",
       "0      Organic           2018.0  1014091.0     NaN          2020-12-16   \n",
       "1      Organic           2015.0  1014167.0     NaN          2020-09-03   \n",
       "2      Organic              NaN        NaN     NaN                 NaT   \n",
       "3      Organic           2014.0  1014493.0     NaN          2020-09-05   \n",
       "4      Organic              NaN        NaN     NaN                 NaT   \n",
       "\n",
       "  driver_first_trip_date driver_last_trip_date car_first_trip_date acceptance  \\\n",
       "0             2021-01-20            2021-01-22          2021-01-20       32.0   \n",
       "1             2021-01-12            2021-04-08          2021-03-12      897.0   \n",
       "2                    NaT                   NaT                 NaT        NaN   \n",
       "3             2021-01-23            2021-04-08          2021-01-23     1399.0   \n",
       "4                    NaT                   NaT                 NaT        NaN   \n",
       "\n",
       "   trips  \n",
       "0   27.0  \n",
       "1  467.0  \n",
       "2    NaN  \n",
       "3  948.0  \n",
       "4    NaN  \n",
       "\n",
       "[5 rows x 21 columns]"
      ]
     },
     "execution_count": 3,
     "metadata": {},
     "output_type": "execute_result"
    }
   ],
   "source": [
    "df.head()"
   ]
  },
  {
   "cell_type": "code",
   "execution_count": 4,
   "metadata": {},
   "outputs": [
    {
     "data": {
      "text/plain": [
       "(15387, 21)"
      ]
     },
     "execution_count": 4,
     "metadata": {},
     "output_type": "execute_result"
    }
   ],
   "source": [
    "df.shape"
   ]
  },
  {
   "cell_type": "markdown",
   "metadata": {},
   "source": [
    "The DataFrame consists of **15387** rows and **21 columns**"
   ]
  },
  {
   "cell_type": "code",
   "execution_count": 5,
   "metadata": {},
   "outputs": [
    {
     "name": "stdout",
     "output_type": "stream",
     "text": [
      "<class 'pandas.core.frame.DataFrame'>\n",
      "RangeIndex: 15387 entries, 0 to 15386\n",
      "Data columns (total 21 columns):\n",
      " #   Column                  Non-Null Count  Dtype         \n",
      "---  ------                  --------------  -----         \n",
      " 0   driver id               15387 non-null  int64         \n",
      " 1   driver_role             15387 non-null  object        \n",
      " 2   driver_city_name        15387 non-null  object        \n",
      " 3   sign_up                 15387 non-null  object        \n",
      " 4   sign_up_date            15387 non-null  datetime64[ns]\n",
      " 5   regular                 15387 non-null  object        \n",
      " 6   regular_date            9372 non-null   datetime64[ns]\n",
      " 7   bind_car                15387 non-null  object        \n",
      " 8   bind_car_date           9426 non-null   datetime64[ns]\n",
      " 9   available               15387 non-null  object        \n",
      " 10  available_date          7521 non-null   datetime64[ns]\n",
      " 11  main_channel            15236 non-null  object        \n",
      " 12  car_factory_year        8280 non-null   float64       \n",
      " 13  brand_id                8280 non-null   float64       \n",
      " 14  inn_id                  251 non-null    object        \n",
      " 15  first_download_time     8984 non-null   datetime64[ns]\n",
      " 16  driver_first_trip_date  6596 non-null   datetime64[ns]\n",
      " 17  driver_last_trip_date   6596 non-null   datetime64[ns]\n",
      " 18  car_first_trip_date     6227 non-null   datetime64[ns]\n",
      " 19  acceptance              6766 non-null   float64       \n",
      " 20  trips                   6766 non-null   float64       \n",
      "dtypes: datetime64[ns](8), float64(4), int64(1), object(8)\n",
      "memory usage: 2.5+ MB\n"
     ]
    }
   ],
   "source": [
    "df.info()"
   ]
  },
  {
   "cell_type": "code",
   "execution_count": 6,
   "metadata": {},
   "outputs": [
    {
     "name": "stdout",
     "output_type": "stream",
     "text": [
      "Number of Numerical Features: 13\n"
     ]
    }
   ],
   "source": [
    "numerical_features = [features for features in df.columns if df[features].dtype != 'O']\n",
    "print('Number of Numerical Features:', len(numerical_features))"
   ]
  },
  {
   "cell_type": "code",
   "execution_count": 7,
   "metadata": {},
   "outputs": [
    {
     "name": "stdout",
     "output_type": "stream",
     "text": [
      "Number of Categorical Features: 8\n"
     ]
    }
   ],
   "source": [
    "categorical_features = [features for features in df.columns if df[features].dtype == 'O']\n",
    "print('Number of Categorical Features:', len(categorical_features))"
   ]
  },
  {
   "cell_type": "code",
   "execution_count": 8,
   "metadata": {},
   "outputs": [
    {
     "name": "stdout",
     "output_type": "stream",
     "text": [
      "regular_date 0.3909 % missing values\n",
      "bind_car_date 0.3874 % missing values\n",
      "available_date 0.5112 % missing values\n",
      "main_channel 0.0098 % missing values\n",
      "car_factory_year 0.4619 % missing values\n",
      "brand_id 0.4619 % missing values\n",
      "inn_id 0.9837 % missing values\n",
      "first_download_time 0.4161 % missing values\n",
      "driver_first_trip_date 0.5713 % missing values\n",
      "driver_last_trip_date 0.5713 % missing values\n",
      "car_first_trip_date 0.5953 % missing values\n",
      "acceptance 0.5603 % missing values\n",
      "trips 0.5603 % missing values\n"
     ]
    }
   ],
   "source": [
    "features_with_na = [features for features in df.columns if df[features].isnull().sum() > 1]\n",
    "\n",
    "for feature in features_with_na:\n",
    "    print(feature, np.round(df[feature].isnull().mean(), 4), '% missing values')"
   ]
  },
  {
   "cell_type": "markdown",
   "metadata": {},
   "source": [
    "From above we see that there are missing values in some of the variables"
   ]
  },
  {
   "cell_type": "markdown",
   "metadata": {},
   "source": [
    "**1. What is the Driver ID of the driver who has completed the most trips?**"
   ]
  },
  {
   "cell_type": "code",
   "execution_count": 9,
   "metadata": {},
   "outputs": [],
   "source": [
    "most_completed_trips = df.groupby(['driver id'])['trips'].sum().sort_values(ascending=False)"
   ]
  },
  {
   "cell_type": "code",
   "execution_count": 11,
   "metadata": {},
   "outputs": [
    {
     "data": {
      "text/plain": [
       "driver id\n",
       "8470311935249    3313.0\n",
       "Name: trips, dtype: float64"
      ]
     },
     "execution_count": 11,
     "metadata": {},
     "output_type": "execute_result"
    }
   ],
   "source": [
    "most_completed_trips.head(1)"
   ]
  },
  {
   "cell_type": "markdown",
   "metadata": {},
   "source": [
    "Driver ID: 8470311935249 completed the most trips"
   ]
  },
  {
   "cell_type": "markdown",
   "metadata": {},
   "source": [
    "**2. Which city has the highest average trips per Driver?**"
   ]
  },
  {
   "cell_type": "code",
   "execution_count": 12,
   "metadata": {},
   "outputs": [],
   "source": [
    "highest_average_trips = df.groupby(['driver_city_name','driver id'])['trips'].mean().sort_values(ascending=False)"
   ]
  },
  {
   "cell_type": "code",
   "execution_count": 13,
   "metadata": {},
   "outputs": [
    {
     "data": {
      "text/plain": [
       "driver_city_name  driver id    \n",
       "Panama City       8470311946332    2733.0\n",
       "Name: trips, dtype: float64"
      ]
     },
     "execution_count": 13,
     "metadata": {},
     "output_type": "execute_result"
    }
   ],
   "source": [
    "highest_average_trips.head(1)"
   ]
  },
  {
   "cell_type": "markdown",
   "metadata": {},
   "source": [
    "Panama City has the highest average trips per Driver"
   ]
  },
  {
   "cell_type": "markdown",
   "metadata": {},
   "source": [
    "**3. Which month had the 3rd lowest number of signups in Munich?**"
   ]
  },
  {
   "cell_type": "code",
   "execution_count": 14,
   "metadata": {},
   "outputs": [
    {
     "data": {
      "text/html": [
       "<div>\n",
       "<style scoped>\n",
       "    .dataframe tbody tr th:only-of-type {\n",
       "        vertical-align: middle;\n",
       "    }\n",
       "\n",
       "    .dataframe tbody tr th {\n",
       "        vertical-align: top;\n",
       "    }\n",
       "\n",
       "    .dataframe thead th {\n",
       "        text-align: right;\n",
       "    }\n",
       "</style>\n",
       "<table border=\"1\" class=\"dataframe\">\n",
       "  <thead>\n",
       "    <tr style=\"text-align: right;\">\n",
       "      <th></th>\n",
       "      <th>driver id</th>\n",
       "      <th>driver_role</th>\n",
       "      <th>driver_city_name</th>\n",
       "      <th>sign_up</th>\n",
       "      <th>sign_up_date</th>\n",
       "      <th>regular</th>\n",
       "      <th>regular_date</th>\n",
       "      <th>bind_car</th>\n",
       "      <th>bind_car_date</th>\n",
       "      <th>available</th>\n",
       "      <th>...</th>\n",
       "      <th>main_channel</th>\n",
       "      <th>car_factory_year</th>\n",
       "      <th>brand_id</th>\n",
       "      <th>inn_id</th>\n",
       "      <th>first_download_time</th>\n",
       "      <th>driver_first_trip_date</th>\n",
       "      <th>driver_last_trip_date</th>\n",
       "      <th>car_first_trip_date</th>\n",
       "      <th>acceptance</th>\n",
       "      <th>trips</th>\n",
       "    </tr>\n",
       "  </thead>\n",
       "  <tbody>\n",
       "    <tr>\n",
       "      <th>2</th>\n",
       "      <td>8470311842215</td>\n",
       "      <td>Driver from fleet</td>\n",
       "      <td>Munich</td>\n",
       "      <td>Sign up</td>\n",
       "      <td>2020-12-31</td>\n",
       "      <td>Not regular</td>\n",
       "      <td>NaT</td>\n",
       "      <td>Bind car</td>\n",
       "      <td>2020-12-31</td>\n",
       "      <td>Not available</td>\n",
       "      <td>...</td>\n",
       "      <td>Organic</td>\n",
       "      <td>NaN</td>\n",
       "      <td>NaN</td>\n",
       "      <td>NaN</td>\n",
       "      <td>NaT</td>\n",
       "      <td>NaT</td>\n",
       "      <td>NaT</td>\n",
       "      <td>NaT</td>\n",
       "      <td>NaN</td>\n",
       "      <td>NaN</td>\n",
       "    </tr>\n",
       "    <tr>\n",
       "      <th>5</th>\n",
       "      <td>8470311842445</td>\n",
       "      <td>Driver from fleet</td>\n",
       "      <td>Munich</td>\n",
       "      <td>Sign up</td>\n",
       "      <td>2020-12-17</td>\n",
       "      <td>Regular</td>\n",
       "      <td>2020-12-21</td>\n",
       "      <td>Bind car</td>\n",
       "      <td>2021-01-04</td>\n",
       "      <td>Available</td>\n",
       "      <td>...</td>\n",
       "      <td>Organic</td>\n",
       "      <td>2008.0</td>\n",
       "      <td>1014309.0</td>\n",
       "      <td>NaN</td>\n",
       "      <td>2020-09-09</td>\n",
       "      <td>2021-01-27</td>\n",
       "      <td>2021-04-13</td>\n",
       "      <td>2021-01-27</td>\n",
       "      <td>1543.0</td>\n",
       "      <td>1030.0</td>\n",
       "    </tr>\n",
       "    <tr>\n",
       "      <th>10</th>\n",
       "      <td>8470311842506</td>\n",
       "      <td>Driver from fleet</td>\n",
       "      <td>Munich</td>\n",
       "      <td>Sign up</td>\n",
       "      <td>2020-12-16</td>\n",
       "      <td>Not regular</td>\n",
       "      <td>NaT</td>\n",
       "      <td>Not bind car</td>\n",
       "      <td>NaT</td>\n",
       "      <td>Not available</td>\n",
       "      <td>...</td>\n",
       "      <td>Organic</td>\n",
       "      <td>NaN</td>\n",
       "      <td>NaN</td>\n",
       "      <td>NaN</td>\n",
       "      <td>NaT</td>\n",
       "      <td>NaT</td>\n",
       "      <td>NaT</td>\n",
       "      <td>NaT</td>\n",
       "      <td>NaN</td>\n",
       "      <td>NaN</td>\n",
       "    </tr>\n",
       "    <tr>\n",
       "      <th>13</th>\n",
       "      <td>8470311842550</td>\n",
       "      <td>Driver from fleet</td>\n",
       "      <td>Munich</td>\n",
       "      <td>Sign up</td>\n",
       "      <td>2020-09-16</td>\n",
       "      <td>Regular</td>\n",
       "      <td>2020-12-16</td>\n",
       "      <td>Not bind car</td>\n",
       "      <td>NaT</td>\n",
       "      <td>Not available</td>\n",
       "      <td>...</td>\n",
       "      <td>Organic</td>\n",
       "      <td>NaN</td>\n",
       "      <td>NaN</td>\n",
       "      <td>NaN</td>\n",
       "      <td>2020-12-16</td>\n",
       "      <td>NaT</td>\n",
       "      <td>NaT</td>\n",
       "      <td>NaT</td>\n",
       "      <td>NaN</td>\n",
       "      <td>NaN</td>\n",
       "    </tr>\n",
       "    <tr>\n",
       "      <th>14</th>\n",
       "      <td>8470311842613</td>\n",
       "      <td>Driver-IE</td>\n",
       "      <td>Munich</td>\n",
       "      <td>Sign up</td>\n",
       "      <td>2020-09-19</td>\n",
       "      <td>Not regular</td>\n",
       "      <td>NaT</td>\n",
       "      <td>Bind car</td>\n",
       "      <td>2020-09-26</td>\n",
       "      <td>Not available</td>\n",
       "      <td>...</td>\n",
       "      <td>Organic</td>\n",
       "      <td>2011.0</td>\n",
       "      <td>1014091.0</td>\n",
       "      <td>Approved</td>\n",
       "      <td>2021-02-27</td>\n",
       "      <td>NaT</td>\n",
       "      <td>NaT</td>\n",
       "      <td>2020-10-15</td>\n",
       "      <td>NaN</td>\n",
       "      <td>NaN</td>\n",
       "    </tr>\n",
       "  </tbody>\n",
       "</table>\n",
       "<p>5 rows × 21 columns</p>\n",
       "</div>"
      ],
      "text/plain": [
       "        driver id        driver_role driver_city_name  sign_up sign_up_date  \\\n",
       "2   8470311842215  Driver from fleet           Munich  Sign up   2020-12-31   \n",
       "5   8470311842445  Driver from fleet           Munich  Sign up   2020-12-17   \n",
       "10  8470311842506  Driver from fleet           Munich  Sign up   2020-12-16   \n",
       "13  8470311842550  Driver from fleet           Munich  Sign up   2020-09-16   \n",
       "14  8470311842613          Driver-IE           Munich  Sign up   2020-09-19   \n",
       "\n",
       "        regular regular_date      bind_car bind_car_date      available  ...  \\\n",
       "2   Not regular          NaT      Bind car    2020-12-31  Not available  ...   \n",
       "5       Regular   2020-12-21      Bind car    2021-01-04      Available  ...   \n",
       "10  Not regular          NaT  Not bind car           NaT  Not available  ...   \n",
       "13      Regular   2020-12-16  Not bind car           NaT  Not available  ...   \n",
       "14  Not regular          NaT      Bind car    2020-09-26  Not available  ...   \n",
       "\n",
       "   main_channel car_factory_year   brand_id    inn_id first_download_time  \\\n",
       "2       Organic              NaN        NaN       NaN                 NaT   \n",
       "5       Organic           2008.0  1014309.0       NaN          2020-09-09   \n",
       "10      Organic              NaN        NaN       NaN                 NaT   \n",
       "13      Organic              NaN        NaN       NaN          2020-12-16   \n",
       "14      Organic           2011.0  1014091.0  Approved          2021-02-27   \n",
       "\n",
       "   driver_first_trip_date driver_last_trip_date car_first_trip_date  \\\n",
       "2                     NaT                   NaT                 NaT   \n",
       "5              2021-01-27            2021-04-13          2021-01-27   \n",
       "10                    NaT                   NaT                 NaT   \n",
       "13                    NaT                   NaT                 NaT   \n",
       "14                    NaT                   NaT          2020-10-15   \n",
       "\n",
       "   acceptance   trips  \n",
       "2         NaN     NaN  \n",
       "5      1543.0  1030.0  \n",
       "10        NaN     NaN  \n",
       "13        NaN     NaN  \n",
       "14        NaN     NaN  \n",
       "\n",
       "[5 rows x 21 columns]"
      ]
     },
     "execution_count": 14,
     "metadata": {},
     "output_type": "execute_result"
    }
   ],
   "source": [
    "new_df = df[df['driver_city_name'] == 'Munich']\n",
    "new_df.head()"
   ]
  },
  {
   "cell_type": "code",
   "execution_count": 15,
   "metadata": {},
   "outputs": [
    {
     "name": "stderr",
     "output_type": "stream",
     "text": [
      "<ipython-input-15-e8654385dec5>:1: SettingWithCopyWarning: \n",
      "A value is trying to be set on a copy of a slice from a DataFrame.\n",
      "Try using .loc[row_indexer,col_indexer] = value instead\n",
      "\n",
      "See the caveats in the documentation: https://pandas.pydata.org/pandas-docs/stable/user_guide/indexing.html#returning-a-view-versus-a-copy\n",
      "  new_df['sign_up_date'] = new_df['sign_up_date'].dt.month\n"
     ]
    }
   ],
   "source": [
    "new_df['sign_up_date'] = new_df['sign_up_date'].dt.month "
   ]
  },
  {
   "cell_type": "code",
   "execution_count": 17,
   "metadata": {},
   "outputs": [],
   "source": [
    "lowest_num_signups = new_df.groupby(['sign_up_date'])['sign_up'].count().sort_values(ascending=False)"
   ]
  },
  {
   "cell_type": "code",
   "execution_count": 18,
   "metadata": {},
   "outputs": [
    {
     "data": {
      "text/html": [
       "<div>\n",
       "<style scoped>\n",
       "    .dataframe tbody tr th:only-of-type {\n",
       "        vertical-align: middle;\n",
       "    }\n",
       "\n",
       "    .dataframe tbody tr th {\n",
       "        vertical-align: top;\n",
       "    }\n",
       "\n",
       "    .dataframe thead th {\n",
       "        text-align: right;\n",
       "    }\n",
       "</style>\n",
       "<table border=\"1\" class=\"dataframe\">\n",
       "  <thead>\n",
       "    <tr style=\"text-align: right;\">\n",
       "      <th></th>\n",
       "      <th>sign_up</th>\n",
       "    </tr>\n",
       "    <tr>\n",
       "      <th>sign_up_date</th>\n",
       "      <th></th>\n",
       "    </tr>\n",
       "  </thead>\n",
       "  <tbody>\n",
       "    <tr>\n",
       "      <th>1</th>\n",
       "      <td>1869</td>\n",
       "    </tr>\n",
       "    <tr>\n",
       "      <th>12</th>\n",
       "      <td>1582</td>\n",
       "    </tr>\n",
       "    <tr>\n",
       "      <th>2</th>\n",
       "      <td>1059</td>\n",
       "    </tr>\n",
       "    <tr>\n",
       "      <th>3</th>\n",
       "      <td>553</td>\n",
       "    </tr>\n",
       "    <tr>\n",
       "      <th>4</th>\n",
       "      <td>195</td>\n",
       "    </tr>\n",
       "    <tr>\n",
       "      <th>9</th>\n",
       "      <td>13</td>\n",
       "    </tr>\n",
       "    <tr>\n",
       "      <th>10</th>\n",
       "      <td>9</td>\n",
       "    </tr>\n",
       "    <tr>\n",
       "      <th>11</th>\n",
       "      <td>5</td>\n",
       "    </tr>\n",
       "  </tbody>\n",
       "</table>\n",
       "</div>"
      ],
      "text/plain": [
       "              sign_up\n",
       "sign_up_date         \n",
       "1                1869\n",
       "12               1582\n",
       "2                1059\n",
       "3                 553\n",
       "4                 195\n",
       "9                  13\n",
       "10                  9\n",
       "11                  5"
      ]
     },
     "execution_count": 18,
     "metadata": {},
     "output_type": "execute_result"
    }
   ],
   "source": [
    "pd.DataFrame(lowest_num_signups)"
   ]
  },
  {
   "cell_type": "markdown",
   "metadata": {},
   "source": [
    "Month 9 which is September, has the 3rd lowest number of signups"
   ]
  }
 ],
 "metadata": {
  "kernelspec": {
   "display_name": "Python 3",
   "language": "python",
   "name": "python3"
  },
  "language_info": {
   "codemirror_mode": {
    "name": "ipython",
    "version": 3
   },
   "file_extension": ".py",
   "mimetype": "text/x-python",
   "name": "python",
   "nbconvert_exporter": "python",
   "pygments_lexer": "ipython3",
   "version": "3.8.5"
  }
 },
 "nbformat": 4,
 "nbformat_minor": 4
}
